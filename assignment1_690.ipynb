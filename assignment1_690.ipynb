{
  "nbformat": 4,
  "nbformat_minor": 0,
  "metadata": {
    "colab": {
      "provenance": [],
      "name": "assignment1_690.ipynb",
      "authorship_tag": "ABX9TyPp1n7AxFJEHX/wg9ZtAKQj",
      "include_colab_link": true
    },
    "kernelspec": {
      "name": "python3",
      "display_name": "Python 3"
    },
    "language_info": {
      "name": "python"
    }
  },
  "cells": [
    {
      "cell_type": "markdown",
      "metadata": {
        "id": "view-in-github",
        "colab_type": "text"
      },
      "source": [
        "<a href=\"https://colab.research.google.com/github/saketh105/Data690/blob/main/assignment1_690.ipynb\" target=\"_parent\"><img src=\"https://colab.research.google.com/assets/colab-badge.svg\" alt=\"Open In Colab\"/></a>"
      ]
    },
    {
      "cell_type": "markdown",
      "source": [
        "#**Name :** *Saketh Reddy*\n",
        "#**Date of birth :** *March 05 2000*\n",
        "#**Place of Birth :** *Hyderabad, India*\n",
        "#**Age :** *22*\n",
        "#**Nationality :**  *Indian* \n",
        "#**Gender :** *Male*\n",
        "\n"
      ],
      "metadata": {
        "id": "JVEcHmEy-Us6"
      }
    },
    {
      "cell_type": "markdown",
      "source": [
        "#**Contact Details**\n",
        "##**House**: *4755 Aldgate green, Halethorpe, 21227, Md*\n",
        "##**email**: *sakethr1@umbc.edu*\n"
      ],
      "metadata": {
        "id": "I_MusHR4D-C2"
      }
    },
    {
      "cell_type": "markdown",
      "source": [
        "#**Education :**\n",
        "## **School** : Triveni school(2015),*Hyderabad*\n",
        "## **Intermediate** : Maths Physics Chemistry Excellencia Jr college(2015-2017),*Hyderabad*\n",
        "## **Bachelors** : Computer Science,Malla reddy institute(2017-2021),*Hyderabad* \n",
        "## **Masters** : Data Science *(current)*, UMBC(2022-), *Baltimore*"
      ],
      "metadata": {
        "id": "h1X6NptQ_n_B"
      }
    },
    {
      "cell_type": "markdown",
      "source": [
        "#**Technical Skills and Abilities :**\n",
        "## ***Web:***\n",
        "### HTML5, CSS,Xml\n",
        "##***Programming skills:***\n",
        "### Java, C++, JavaScript,Python,Php,c#\n",
        "##***Operating Sysytems:***\n",
        "### Microsoft Windows, IOS\n",
        "\n",
        "\n"
      ],
      "metadata": {
        "id": "sI2bTqsiBNGd"
      }
    },
    {
      "cell_type": "markdown",
      "source": [
        "#**Sports:**\n",
        "##*Cricket national player*\n",
        "##*football diviosional player*\n",
        "##*Good at Basketball and chess*\n",
        "\n"
      ],
      "metadata": {
        "id": "pQlU0-cjF3M0"
      }
    },
    {
      "cell_type": "markdown",
      "source": [
        "#**Linguistic Proficiency :**\n",
        "##*Telugu, Hindi,  English, French(level3),Spanish(level2)*"
      ],
      "metadata": {
        "id": "kDfjREsZG45g"
      }
    }
  ]
}