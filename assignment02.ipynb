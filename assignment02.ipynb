{
  "nbformat": 4,
  "nbformat_minor": 0,
  "metadata": {
    "colab": {
      "provenance": [],
      "authorship_tag": "ABX9TyPX/qEwDo11clrTaMuHSDHw",
      "include_colab_link": true
    },
    "kernelspec": {
      "name": "python3",
      "display_name": "Python 3"
    },
    "language_info": {
      "name": "python"
    }
  },
  "cells": [
    {
      "cell_type": "markdown",
      "metadata": {
        "id": "view-in-github",
        "colab_type": "text"
      },
      "source": [
        "<a href=\"https://colab.research.google.com/github/saketh105/Data690/blob/main/assignment02.ipynb\" target=\"_parent\"><img src=\"https://colab.research.google.com/assets/colab-badge.svg\" alt=\"Open In Colab\"/></a>"
      ]
    },
    {
      "cell_type": "markdown",
      "source": [
        "# ASSIGNMENT 02"
      ],
      "metadata": {
        "id": "0mOUCUOfPYCO"
      }
    },
    {
      "cell_type": "markdown",
      "source": [
        "**10 only integer input**\n",
        "* take only integer values \n",
        "* if entered non integer values, returns ***error*** and asks to enter only integer\n",
        "* used ***while*** loop"
      ],
      "metadata": {
        "id": "CKMsD5QWIctT"
      }
    },
    {
      "cell_type": "code",
      "execution_count": 8,
      "metadata": {
        "colab": {
          "base_uri": "https://localhost:8080/"
        },
        "id": "PAAE688wE8Rp",
        "outputId": "2f356d7e-b3d4-4bb0-b56b-ae7b4b56640d"
      },
      "outputs": [
        {
          "output_type": "stream",
          "name": "stdout",
          "text": [
            "Enter 10 integers:\n",
            "12\n",
            "1\n",
            "3\n",
            "d\n",
            "please only input integer values\n",
            "\n",
            "please only input integer values\n",
            "\n",
            "please only input integer values\n",
            "1\n",
            "56\n",
            "98\n",
            "0\n",
            "45\n",
            "8\n",
            "6\n",
            "[12, 1, 3, 1, 56, 98, 0, 45, 8, 6]\n"
          ]
        }
      ],
      "source": [
        "onlyint_lst=list()\n",
        "c=0\n",
        "print('Enter 10 integers:')\n",
        "while c < 10:\n",
        "    inputs=input()\n",
        "    if inputs.isnumeric():\n",
        "        onlyint_lst.append(inputs)\n",
        "        c= c + 1\n",
        "    else:\n",
        "        print('please only input integer values')\n",
        "# The values that are appended in list are taken as string and are coverted into integers using the following code.        \n",
        "for i in range(len(onlyint_lst)):\n",
        "    onlyint_lst[i]=int(onlyint_lst[i])\n",
        "    \n",
        "    \n",
        "print(onlyint_lst)"
      ]
    },
    {
      "cell_type": "markdown",
      "source": [
        "**MINIMUM** **NUMBER** **OF** **THE LIST** "
      ],
      "metadata": {
        "id": "hl3DINs4F3BH"
      }
    },
    {
      "cell_type": "code",
      "source": [
        "l_min=onlyint_lst[0]\n",
        "for i in range(len(onlyint_lst)):\n",
        "    if onlyint_lst[i]<l_min:\n",
        "        l_min=onlyint_lst[i]\n",
        "print('the minimum number of the list is',l_min)"
      ],
      "metadata": {
        "colab": {
          "base_uri": "https://localhost:8080/"
        },
        "id": "jnlDZlI7F3iT",
        "outputId": "244d82d0-d187-4fb1-8164-9b72f268d092"
      },
      "execution_count": 9,
      "outputs": [
        {
          "output_type": "stream",
          "name": "stdout",
          "text": [
            "the minimum number of the list is 0\n"
          ]
        }
      ]
    },
    {
      "cell_type": "markdown",
      "source": [
        "**MAXIMUM NUMBER OF THE LIST**"
      ],
      "metadata": {
        "id": "eUfRCgofGwqG"
      }
    },
    {
      "cell_type": "code",
      "source": [
        "l_max=onlyint_lst[0]\n",
        "for i in range(len(onlyint_lst)):\n",
        "    if onlyint_lst[i]>l_max:\n",
        "        l_max=onlyint_lst[i]\n",
        "print('the maximum number of the list is',l_max)"
      ],
      "metadata": {
        "colab": {
          "base_uri": "https://localhost:8080/"
        },
        "id": "NEG_q8GCGw10",
        "outputId": "42b156b1-6aa7-4d97-9f67-004937128f55"
      },
      "execution_count": 10,
      "outputs": [
        {
          "output_type": "stream",
          "name": "stdout",
          "text": [
            "the maximum number of the list is 98\n"
          ]
        }
      ]
    },
    {
      "cell_type": "markdown",
      "source": [
        "**Range**\n",
        "* It is defined as ***difference*** between minimum number and maximum number of the list\n",
        "\n",
        "\n"
      ],
      "metadata": {
        "id": "lSKjvE8UHdcT"
      }
    },
    {
      "cell_type": "code",
      "source": [
        "ran = l_max - l_min\n",
        "print('The range of the list is:',ran)"
      ],
      "metadata": {
        "colab": {
          "base_uri": "https://localhost:8080/"
        },
        "id": "PtaEqgDqHdza",
        "outputId": "86e81827-816d-4622-c064-0ddf0e87b43e"
      },
      "execution_count": 11,
      "outputs": [
        {
          "output_type": "stream",
          "name": "stdout",
          "text": [
            "The range of the list is: 98\n"
          ]
        }
      ]
    },
    {
      "cell_type": "markdown",
      "source": [
        "**Mean** \n",
        "* It is defined by taking ***sum*** of the list and dividing it by the ***total*** numbers in the list"
      ],
      "metadata": {
        "id": "SsBj_g-cHd-l"
      }
    },
    {
      "cell_type": "code",
      "source": [
        "avg=0\n",
        "for i in range(len(onlyint_lst)):\n",
        "    avg=avg+onlyint_lst[i]\n",
        "l_mean=avg/len(onlyint_lst)\n",
        "print('Mean of the list:',l_mean)"
      ],
      "metadata": {
        "colab": {
          "base_uri": "https://localhost:8080/"
        },
        "id": "DQnF5WxMHeLF",
        "outputId": "0334acd0-265b-4649-e29e-4834a5d2e221"
      },
      "execution_count": 12,
      "outputs": [
        {
          "output_type": "stream",
          "name": "stdout",
          "text": [
            "Mean of the list: 23.0\n"
          ]
        }
      ]
    },
    {
      "cell_type": "markdown",
      "source": [
        "**variance** \n",
        "* It is mean squared ***difference*** between each data point and the ***centre*** of the distribution measured by the mean"
      ],
      "metadata": {
        "id": "3S7GZD0VKoZM"
      }
    },
    {
      "cell_type": "code",
      "source": [
        "t_sqr=0\n",
        "for i in range(len(onlyint_lst)):\n",
        "    j=l_mean-onlyint_lst[i]\n",
        "    sqr= j*j\n",
        "    t_sqr=t_sqr+sqr\n",
        "\n",
        "variance=t_sqr/len(onlyint_lst)\n",
        "print('Variance of the list:',variance)"
      ],
      "metadata": {
        "colab": {
          "base_uri": "https://localhost:8080/"
        },
        "id": "0cdnMUZtKonU",
        "outputId": "17182850-1c68-4dec-cb36-924ec9e808b2"
      },
      "execution_count": 16,
      "outputs": [
        {
          "output_type": "stream",
          "name": "stdout",
          "text": [
            "Variance of the list: 973.0\n"
          ]
        }
      ]
    },
    {
      "cell_type": "markdown",
      "source": [
        "**Standard** **Deviation**\n",
        "* calculated by square rooting the variance"
      ],
      "metadata": {
        "id": "Sy8KIxOfKo0d"
      }
    },
    {
      "cell_type": "code",
      "source": [
        "l_S_deviation = variance ** 0.5\n",
        "print('standard deviation of the list:',l_S_deviation)"
      ],
      "metadata": {
        "colab": {
          "base_uri": "https://localhost:8080/"
        },
        "id": "q8WkWkyeKpAc",
        "outputId": "e856ccef-6279-40a8-9dc7-5c4544dc1fce"
      },
      "execution_count": 18,
      "outputs": [
        {
          "output_type": "stream",
          "name": "stdout",
          "text": [
            "standard deviation of the list: 31.192947920964443\n"
          ]
        }
      ]
    }
  ]
}