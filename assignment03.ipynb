{
  "nbformat": 4,
  "nbformat_minor": 0,
  "metadata": {
    "colab": {
      "provenance": [],
      "authorship_tag": "ABX9TyNaXDFC8ZEk/bSGxOY7h3iL",
      "include_colab_link": true
    },
    "kernelspec": {
      "name": "python3",
      "display_name": "Python 3"
    },
    "language_info": {
      "name": "python"
    }
  },
  "cells": [
    {
      "cell_type": "markdown",
      "metadata": {
        "id": "view-in-github",
        "colab_type": "text"
      },
      "source": [
        "<a href=\"https://colab.research.google.com/github/saketh105/Data690/blob/main/assignment03.ipynb\" target=\"_parent\"><img src=\"https://colab.research.google.com/assets/colab-badge.svg\" alt=\"Open In Colab\"/></a>"
      ]
    },
    {
      "cell_type": "markdown",
      "source": [
        "# ASSIGNMENT 03"
      ],
      "metadata": {
        "id": "AkGRS_j0jP7_"
      }
    },
    {
      "cell_type": "markdown",
      "source": [
        "**1. Using *random* library to generate random 10 x 10 matrix**"
      ],
      "metadata": {
        "id": "cbowpdPijZHk"
      }
    },
    {
      "cell_type": "code",
      "execution_count": 7,
      "metadata": {
        "colab": {
          "base_uri": "https://localhost:8080/"
        },
        "id": "WUurdrzrhh7g",
        "outputId": "788fa00d-08e7-4139-9a94-b31167a5435d"
      },
      "outputs": [
        {
          "output_type": "stream",
          "name": "stdout",
          "text": [
            "6 9 6 1 8 1 5 3 5 1 \n",
            "3 5 4 4 2 7 7 6 4 8 \n",
            "2 1 3 4 9 3 5 6 9 1 \n",
            "6 4 7 8 9 2 3 2 1 3 \n",
            "4 9 7 2 4 4 5 1 3 5 \n",
            "4 9 2 7 2 9 7 7 8 7 \n",
            "6 9 4 8 2 3 3 1 0 3 \n",
            "9 0 2 4 6 1 1 2 5 1 \n",
            "4 2 8 8 8 9 2 4 5 6 \n",
            "6 7 0 1 9 8 2 3 5 5 \n"
          ]
        }
      ],
      "source": [
        "import random\n",
        "for i in range (0,10):\n",
        "    for i in range (0,10):\n",
        "        print(random.randint(0,9),end=\" \")\n",
        "    print('')\n",
        "\n"
      ]
    },
    {
      "cell_type": "markdown",
      "source": [
        " **2. printing *@* if the random integer is a odd number**"
      ],
      "metadata": {
        "id": "SFSW4q_mkb3Q"
      }
    },
    {
      "cell_type": "code",
      "source": [
        "for i in range (0,10):\n",
        "    for j in range (0,10):\n",
        "        A=random.randint(0,9)\n",
        "        if A%2==0:\n",
        "            print(A,end=' ')\n",
        "        else:\n",
        "            print('@',end=' ')\n",
        "    print('')"
      ],
      "metadata": {
        "colab": {
          "base_uri": "https://localhost:8080/"
        },
        "id": "11pgE80Shl21",
        "outputId": "cfc77f8e-06de-4303-fed7-f200e1a2be00"
      },
      "execution_count": 8,
      "outputs": [
        {
          "output_type": "stream",
          "name": "stdout",
          "text": [
            "4 6 8 @ 2 8 0 8 2 @ \n",
            "@ @ 2 @ @ 8 @ 4 @ 4 \n",
            "0 @ 0 @ 8 4 @ @ 0 8 \n",
            "@ @ @ 4 8 @ 2 @ @ 4 \n",
            "8 @ 0 6 8 @ @ @ 2 @ \n",
            "4 @ 4 8 @ 6 0 8 @ @ \n",
            "@ @ @ @ @ 6 @ 2 0 4 \n",
            "8 2 0 6 @ @ @ @ 4 2 \n",
            "8 8 8 2 6 @ 2 @ @ @ \n",
            "2 8 0 8 @ 0 @ @ @ @ \n"
          ]
        }
      ]
    },
    {
      "cell_type": "markdown",
      "source": [
        "**3.calculating and printing the sum of each row**"
      ],
      "metadata": {
        "id": "U1F6DQ8dkuC1"
      }
    },
    {
      "cell_type": "code",
      "source": [
        "for i in range (0,10):\n",
        "    Sum=0\n",
        "    for j in range (0,10):\n",
        "        N=random.randint(0,9)\n",
        "        Sum=Sum+N\n",
        "        print(N,end=' ')\n",
        "    print('*',Sum,end=' ')\n",
        "    print(' ')"
      ],
      "metadata": {
        "colab": {
          "base_uri": "https://localhost:8080/"
        },
        "id": "kLJ5LifRhmL4",
        "outputId": "144f8c40-3b44-4acf-957c-96b706646b08"
      },
      "execution_count": 9,
      "outputs": [
        {
          "output_type": "stream",
          "name": "stdout",
          "text": [
            "7 3 2 5 1 7 4 2 3 5 * 39  \n",
            "1 1 2 8 7 5 1 2 7 2 * 36  \n",
            "4 0 6 6 4 6 2 8 6 7 * 49  \n",
            "7 1 6 4 3 1 3 0 4 7 * 36  \n",
            "9 6 7 3 0 7 3 5 3 9 * 52  \n",
            "3 6 2 6 1 6 3 5 4 9 * 45  \n",
            "2 8 3 5 9 2 0 9 9 0 * 47  \n",
            "2 0 5 0 9 6 0 2 4 5 * 33  \n",
            "9 6 9 6 3 5 7 2 1 6 * 54  \n",
            "7 6 5 9 7 9 6 7 4 9 * 69  \n"
          ]
        }
      ]
    },
    {
      "cell_type": "markdown",
      "source": [
        "**4.Surrounding the matrix with asterisks**"
      ],
      "metadata": {
        "id": "S-Ksq2ywmdUQ"
      }
    },
    {
      "cell_type": "code",
      "source": [
        "for a in range (0,23):\n",
        "    print('*',end='')\n",
        "print('')\n",
        "for i in range (0,10):\n",
        "    Sum=0\n",
        "    print('*',end='')\n",
        "    for j in range (0,10):\n",
        "        N=random.randint(0,9)\n",
        "        Sum=Sum+N\n",
        "        print('',N,end='')\n",
        "    print(' *',end='')\n",
        "    print('')\n",
        "for b in range (0,23):\n",
        "    print('*',end='')"
      ],
      "metadata": {
        "colab": {
          "base_uri": "https://localhost:8080/"
        },
        "id": "upQO1wLvhmOE",
        "outputId": "6dfc3cd3-e6d9-447b-9758-c76eeed481cc"
      },
      "execution_count": 10,
      "outputs": [
        {
          "output_type": "stream",
          "name": "stdout",
          "text": [
            "***********************\n",
            "* 4 1 7 3 2 4 4 7 4 8 *\n",
            "* 4 0 3 5 9 0 6 5 3 7 *\n",
            "* 3 5 0 1 1 5 5 5 0 5 *\n",
            "* 4 6 6 2 0 9 3 0 3 7 *\n",
            "* 5 6 3 4 9 0 2 3 8 9 *\n",
            "* 3 6 3 7 1 6 8 8 7 2 *\n",
            "* 0 9 6 8 1 6 7 7 5 4 *\n",
            "* 0 4 2 2 6 6 5 8 0 2 *\n",
            "* 4 0 9 5 2 7 7 0 3 2 *\n",
            "* 3 5 8 8 7 4 8 8 1 0 *\n",
            "***********************"
          ]
        }
      ]
    },
    {
      "cell_type": "markdown",
      "source": [
        "**5. Calculating and Printing the total of each row and column**"
      ],
      "metadata": {
        "id": "k8Xo7j7jn0NK"
      }
    },
    {
      "cell_type": "code",
      "source": [
        "c_sum = [0]*10\n",
        "r_sum = 0\n",
        "for i in range(10):\n",
        "    r_sum = 0\n",
        "    for j in range(10):\n",
        "        sum = random.randint(0,9)\n",
        "        r_sum=r_sum+sum\n",
        "        c_sum[j] = c_sum[j] + sum\n",
        "        print(sum, end=\"  \") \n",
        "    print(\"*\",end=\" \")\n",
        "    print(r_sum,end=\"  \")\n",
        "    print(\"\\n\")\n",
        "for i in range(10):\n",
        "    print(\"*\",end=\"  \")\n",
        "i = 0\n",
        "print(\"\\n\")\n",
        "while i<=9:\n",
        "   print(c_sum[i],end=\" \")\n",
        "   i= i+1"
      ],
      "metadata": {
        "colab": {
          "base_uri": "https://localhost:8080/"
        },
        "id": "2vpSkBqyhmRh",
        "outputId": "b25c3810-303d-4aef-9ff9-f5d6ae2b05dd"
      },
      "execution_count": 13,
      "outputs": [
        {
          "output_type": "stream",
          "name": "stdout",
          "text": [
            "7  4  4  3  8  3  5  9  6  0  * 49  \n",
            "\n",
            "5  0  7  6  7  8  4  2  3  4  * 46  \n",
            "\n",
            "6  6  9  9  4  7  8  9  3  0  * 61  \n",
            "\n",
            "7  4  3  0  3  9  8  2  3  5  * 44  \n",
            "\n",
            "1  8  0  2  0  0  3  3  9  7  * 33  \n",
            "\n",
            "2  1  8  4  7  9  2  8  5  5  * 51  \n",
            "\n",
            "6  0  8  0  1  1  1  4  9  4  * 34  \n",
            "\n",
            "1  0  3  2  6  4  9  4  9  4  * 42  \n",
            "\n",
            "2  3  3  9  8  9  9  2  2  9  * 56  \n",
            "\n",
            "2  1  4  6  8  3  9  8  3  6  * 50  \n",
            "\n",
            "*  *  *  *  *  *  *  *  *  *  \n",
            "\n",
            "39 27 49 41 52 53 58 51 52 44 "
          ]
        }
      ]
    }
  ]
}